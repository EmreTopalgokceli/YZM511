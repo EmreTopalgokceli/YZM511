{
 "cells": [
  {
   "cell_type": "code",
   "execution_count": 2,
   "id": "76055f7b-13dc-4ba6-8368-7f102e4fccd6",
   "metadata": {},
   "outputs": [
    {
     "ename": "IndentationError",
     "evalue": "unindent does not match any outer indentation level (<tokenize>, line 4)",
     "output_type": "error",
     "traceback": [
      "\u001b[1;36m  File \u001b[1;32m<tokenize>:4\u001b[1;36m\u001b[0m\n\u001b[1;33m    / \\   / \\\u001b[0m\n\u001b[1;37m    ^\u001b[0m\n\u001b[1;31mIndentationError\u001b[0m\u001b[1;31m:\u001b[0m unindent does not match any outer indentation level\n"
     ]
    }
   ],
   "source": [
    "        16\n",
    "       /  \\\n",
    "     8    24\n",
    "    / \\   / \\\n",
    "   4  12 20 28\n",
    "  / \\ / \\ / \\ / \\\n",
    " 2  6 10 14 18 22 26 30\n",
    "/ \\ \n",
    "1  3\n"
   ]
  },
  {
   "cell_type": "code",
   "execution_count": 14,
   "id": "f285f365-3812-4f3f-87a4-76868a0e9ee2",
   "metadata": {},
   "outputs": [],
   "source": [
    "# Soru 1-B\n",
    "class BST:\n",
    "    def __init__(self, value):\n",
    "        self.value = value\n",
    "        self.left = None\n",
    "        self.right = None\n",
    "\n",
    "    def ekle(self, value):\n",
    "        if value < self.value:\n",
    "            if self.left is None:\n",
    "                self.left = BST(value)\n",
    "            else:\n",
    "                self.left.ekle(value)\n",
    "        else:\n",
    "            if self.right is None:\n",
    "                self.right = BST(value)\n",
    "            else:\n",
    "                self.right.ekle(value)\n",
    "\n",
    "#  oluştur ve düğümleri ekle\n",
    "agac = BST(16)\n",
    "dugumler = [8, 24, 4, 12, 20, 28, 2, 6, 10, 14, 18, 22, 26, 30, 1, 3]\n",
    "\n",
    "for dugum in dugumler:\n",
    "    agac.ekle(dugum)\n",
    "\n"
   ]
  },
  {
   "cell_type": "code",
   "execution_count": 16,
   "id": "762db973-1eb5-4111-abce-2cb0c5d0927e",
   "metadata": {},
   "outputs": [],
   "source": [
    "yeni_dugumler = [30, 40, 50, 60]\n",
    "for dugum in yeni_dugumler:\n",
    "    agac.ekle(dugum)"
   ]
  },
  {
   "cell_type": "code",
   "execution_count": 11,
   "id": "f3b0f4c3-fbb6-4433-a9d5-b8684f84d7c6",
   "metadata": {},
   "outputs": [
    {
     "name": "stdout",
     "output_type": "stream",
     "text": [
      "Komşuluk Matrisi:\n",
      "[0, 4, 2, 0, 0, 0]\n",
      "[4, 0, 5, 10, 0, 0]\n",
      "[2, 5, 0, 3, 4, 0]\n",
      "[0, 10, 3, 0, 1, 11]\n",
      "[0, 0, 4, 1, 0, 5]\n",
      "[0, 0, 0, 11, 5, 0]\n"
     ]
    }
   ],
   "source": [
    "# Soru 2-A\n",
    "# Öncelikle düğümleri belirleyelim ve indeksleyelim\n",
    "dugumler = [\"A\", \"B\", \"C\", \"D\", \"E\", \"F\"]\n",
    "\n",
    "# Komşuluk matrisini oluşturmak için bir boş matris oluşturalım\n",
    "komsuluk_matrisi = [[0 for _ in range(len(dugumler))] for _ in range(len(dugumler))]\n",
    "\n",
    "# Bağlantıları ekleyelim\n",
    "kenarlar = [(\"A\", \"B\", 4), (\"A\", \"C\", 2), (\"B\", \"C\", 5), (\"B\", \"D\", 10), (\"C\", \"D\", 3), (\"C\", \"E\", 4), (\"D\", \"F\", 11), (\"E\", \"D\", 1), (\"E\", \"F\", 5)]\n",
    "\n",
    "# Matrise bağlantıları işleyelim\n",
    "for kenar in kenarlar:\n",
    "    i = dugumler.index(kenar[0])\n",
    "    j = dugumler.index(kenar[1])\n",
    "    komsuluk_matrisi[i][j] = kenar[2]\n",
    "    komsuluk_matrisi[j][i] = kenar[2]  # Bu satır grafiğin yönsüz olduğunu varsayar\n",
    "\n",
    "# Matrisin yazdırılması\n",
    "print(\"Komşuluk Matrisi:\")\n",
    "for satir in komsuluk_matrisi:\n",
    "    print(satir)\n"
   ]
  },
  {
   "cell_type": "code",
   "execution_count": 13,
   "id": "bc1d5fdf-1f49-462e-bbd6-410515047e02",
   "metadata": {},
   "outputs": [
    {
     "name": "stdout",
     "output_type": "stream",
     "text": [
      "Komşuluk Listesi:\n",
      "A: [('B', 4), ('C', 2)]\n",
      "B: [('A', 4), ('C', 5), ('D', 10)]\n",
      "C: [('A', 2), ('B', 5), ('D', 3), ('E', 4)]\n",
      "D: [('B', 10), ('C', 3), ('F', 11), ('E', 1)]\n",
      "E: [('C', 4), ('D', 1), ('F', 5)]\n",
      "F: [('D', 11), ('E', 5)]\n"
     ]
    }
   ],
   "source": [
    "# Soru 2-B\n",
    "# Düğümleri belirleyelim\n",
    "dugumler = [\"A\", \"B\", \"C\", \"D\", \"E\", \"F\"]\n",
    "\n",
    "# Komşuluk listesini oluşturmak için bir boş sözlük oluştur\n",
    "komsuluk_listesi = {dugum: [] for dugum in dugumler}\n",
    "\n",
    "# Bağlantıları ekleyelim\n",
    "kenarlar = [(\"A\", \"B\", 4), (\"A\", \"C\", 2), (\"B\", \"C\", 5), (\"B\", \"D\", 10), (\"C\", \"D\", 3), (\"C\", \"E\", 4), (\"D\", \"F\", 11), (\"E\", \"D\", 1), (\"E\", \"F\", 5)]\n",
    "\n",
    "# Listeye bağlantıları işle\n",
    "for kenar in kenarlar:\n",
    "    komsuluk_listesi[kenar[0]].append((kenar[1], kenar[2]))\n",
    "    komsuluk_listesi[kenar[1]].append((kenar[0], kenar[2]))  # Bu satır grafiğin yönsüz olduğunu varsayar\n",
    "\n",
    "# Listeleri yazdır\n",
    "print(\"Komşuluk Listesi:\")\n",
    "for dugum in komsuluk_listesi:\n",
    "    print(f\"{dugum}: {komsuluk_listesi[dugum]}\")\n",
    "\n"
   ]
  },
  {
   "cell_type": "code",
   "execution_count": 7,
   "id": "45e5d936-7490-459b-bd17-a47395b87bb4",
   "metadata": {},
   "outputs": [
    {
     "name": "stdout",
     "output_type": "stream",
     "text": [
      "A'dan F'ye en kısa mesafe: 11\n",
      "A'dan F'ye en kısa yol: [0, 2, 4, 5]\n"
     ]
    }
   ],
   "source": [
    "# Soru 3-A\n",
    "\n",
    "import heapq #Kütüphaneyi ekliyoruz\n",
    "\n",
    "def dijstra(matris, baslangic):\n",
    "    n = len(matris)\n",
    "    mesafeler = [float('infinity')] * n #Tüm düğümler için başlangıçta sonsuz mesafeler\n",
    "    mesafeler[baslangic] = 0 #Başlangıç düğümü için mesafeyi 0 olarak ayarlıyoruz.\n",
    "    oncelik_kuyrugu = [(0, baslangic)] #Öncelik kuyruğunu başlatıyoruz. Başlangıç düğümünü ve mesafesini (0) içine ekliyoruz.\n",
    "    onceki_dugumler = [None] * n\n",
    "    \n",
    "    while oncelik_kuyrugu: #Öncelik kuyruğu boş olana kadar döngüye devam ediyoruz.\n",
    "\n",
    "        mevcut_mesafe, mevcut_dugum = heapq.heappop(oncelik_kuyrugu)\n",
    "        \n",
    "        if mevcut_mesafe > mesafeler[mevcut_dugum]:\n",
    "            continue\n",
    "        \n",
    "        for komsu in range(n):\n",
    "            if matris[mevcut_dugum][komsu] != 0:\n",
    "                mesafe = mevcut_mesafe + matris[mevcut_dugum][komsu]\n",
    "                \n",
    "                if mesafe < mesafeler[komsu]:\n",
    "                    mesafeler[komsu] = mesafe\n",
    "                    onceki_dugumler[komsu] = mevcut_dugum\n",
    "                    heapq.heappush(oncelik_kuyrugu, (mesafe, komsu))\n",
    "    \n",
    "    return mesafeler, onceki_dugumler\n",
    "\n",
    "# Graf matrisini tanımlayalım\n",
    "graf_matris = [\n",
    "    # A  B  C  D  E  F\n",
    "    [ 0, 4, 2, 0, 0, 0], # A\n",
    "    [ 4, 0, 5,10, 0, 0], # B\n",
    "    [ 2, 5, 0, 3, 4, 0], # C\n",
    "    [ 0,10, 3, 0, 1,11], # D\n",
    "    [ 0, 0, 4, 1, 0, 5], # E\n",
    "    [ 0, 0, 0,11, 5, 0]  # F\n",
    "]\n",
    "\n",
    "# A düğümünden (index 0) F düğümüne (index 5) en kısa yolun mesafesi\n",
    "mesafeler, onceki_dugumler = dijstra(graf_matris, 0)\n",
    "print(\"A'dan F'ye en kısa mesafe:\", mesafeler[5])\n",
    "\n",
    "# En kısa yolu bulmak için önceki düğümleri takip edelim\n",
    "def en_kisa_yol(onceki_dugumler, baslangic, hedef):\n",
    "    yol = []\n",
    "    mevcut_dugum = hedef\n",
    "    while mevcut_dugum is not None:\n",
    "        yol.insert(0, mevcut_dugum)\n",
    "        mevcut_dugum = onceki_dugumler[mevcut_dugum]\n",
    "    return yol\n",
    "\n",
    "print(\"A'dan F'ye en kısa yol:\", en_kisa_yol(onceki_dugumler, 0, 5))\n"
   ]
  },
  {
   "cell_type": "code",
   "execution_count": 10,
   "id": "ba5ea99b-0660-4d86-b8ff-73bf434b0a6b",
   "metadata": {},
   "outputs": [
    {
     "data": {
      "image/png": "[encoded data removed]",
      "text/plain": [
       "<Figure size 640x480 with 1 Axes>"
      ]
     },
     "metadata": {},
     "output_type": "display_data"
    }
   ],
   "source": [
    "# Soru 3-C\n",
    "import networkx as nx\n",
    "import matplotlib.pyplot as plt\n",
    "\n",
    "# Grafın kenarlarını ve ağırlıklarını tanımlıyor5uz\n",
    "edges = [\n",
    "    ('A', 'B', 4),\n",
    "    ('A', 'C', 2),\n",
    "    ('B', 'C', 5),\n",
    "    ('B', 'D', 10),\n",
    "    ('C', 'D', 3),\n",
    "    ('C', 'E', 4),\n",
    "    ('D', 'F', 11),\n",
    "    ('E', 'D', 1),\n",
    "    ('E', 'F', 5)\n",
    "]\n",
    "\n",
    "# NetworkX grafını oluşturuyoruz\n",
    "G = nx.Graph()\n",
    "\n",
    "# Kenarları grafımıza ekleyelim\n",
    "for edge in edges:\n",
    "    G.add_edge(edge[0], edge[1], weight=edge[2])\n",
    "\n",
    "# Düğümlerin pozisyonlarını belirleyelim\n",
    "pos = nx.spring_layout(G)\n",
    "\n",
    "# Grafı çizdirelim\n",
    "plt.figure()\n",
    "nx.draw(G, pos, with_labels=True, node_color='lightblue', node_size=500, font_size=10, font_weight='bold')\n",
    "labels = nx.get_edge_attributes(G, 'weight')\n",
    "nx.draw_networkx_edge_labels(G, pos, edge_labels=labels)\n",
    "plt.title(\"Ağırlıklı Graf\")\n",
    "plt.show()\n"
   ]
  },
  {
   "cell_type": "code",
   "execution_count": null,
   "id": "640c4242-ccf2-4f1b-b174-d403e7172923",
   "metadata": {},
   "outputs": [],
   "source": []
  }
 ],
 "metadata": {
  "kernelspec": {
   "display_name": "Python 3 (ipykernel)",
   "language": "python",
   "name": "python3"
  },
  "language_info": {
   "codemirror_mode": {
    "name": "ipython",
    "version": 3
   },
   "file_extension": ".py",
   "mimetype": "text/x-python",
   "name": "python",
   "nbconvert_exporter": "python",
   "pygments_lexer": "ipython3",
   "version": "3.11.7"
  }
 },
 "nbformat": 4,
 "nbformat_minor": 5
}
