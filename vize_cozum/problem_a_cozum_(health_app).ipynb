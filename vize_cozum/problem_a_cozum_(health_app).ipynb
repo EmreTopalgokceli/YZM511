{
 "cells": [
  {
   "cell_type": "markdown",
   "id": "417784a9-e311-4ccd-8668-f4b02c6c71f1",
   "metadata": {},
   "source": [
    "İŞ PROBLEMİ A \n",
    "\n",
    "Bir sağlık ve fitness uygulaması şirketi, geliştirdiği mobil uygulamanın genel sağlık göstergeleri üzerindeki etkisini anlamak istemektedir. Şirket, düzenli uygulama kullanımının kullanıcıların adım sayısını ve genel aktivite seviyelerini artırabileceğine inanmaktadır. Bu nedenle şirket, kullanıcıları aşağıdaki şekilde iki gruba ayırmaktadır.\n",
    "\n",
    "A Grubu: Uygulamayı haftada en az 5 gün kullananlar.\n",
    "\r\n",
    "B Grubu: Uygulamayı haftada 5 günden az kullananlar. \n",
    "\n",
    "\n",
    "Eğer düzenli uygulama kullanımının adım sayısını artırdığı istatistiksel olarak anlamlıysa, şirket bu bilgiyi kullanıcıları daha fazla hareket etmeye teşvik etmek için kullanmayı amaçlamaktadır. Bu kapsamda tarafınızdan yapılması beklenenler aşağıda yer almaktadır. Bu iş problemini çözerken health_app_usage.csv isimli veri setini kullanınız."
   ]
  },
  {
   "cell_type": "markdown",
   "id": "1d1fce81-3213-4813-9e89-554a9f28e98a",
   "metadata": {},
   "source": [
    "SORU 1 - Yalnızca gerekli kütüphaneleri ve testleri çalışma ortamına yükleyiniz. (5 puan) - Kullanılmadığı halde yüklenmiş kütüphane ve testlerin her biri için 1 puanınız düşürülecektir."
   ]
  },
  {
   "cell_type": "code",
   "execution_count": 4,
   "id": "f6233698-0ebe-46ef-b0cc-fbe5457d1c6e",
   "metadata": {},
   "outputs": [],
   "source": [
    "import pandas as pd \n",
    "from scipy.stats import  shapiro, levene, ttest_ind, mannwhitneyu"
   ]
  },
  {
   "cell_type": "markdown",
   "id": "846feafc-0a1d-4de3-9d54-2a7d8d83291d",
   "metadata": {},
   "source": [
    "SORU 2 - Veri setini çalışma ortamına yükleyiniz. (5 puan)"
   ]
  },
  {
   "cell_type": "code",
   "execution_count": 6,
   "id": "96061258-5c1a-4966-a11e-b424ab30a23b",
   "metadata": {},
   "outputs": [],
   "source": [
    "df = pd.read_csv('other/vize_23/health_app_usage.csv')"
   ]
  },
  {
   "cell_type": "markdown",
   "id": "9cb57ce8-38fe-4b1f-bb82-7bdb679d3412",
   "metadata": {},
   "source": [
    "SORU 3 - Veriden edindiğiniz ilk izlenim nedir? (15 puan)\n",
    "            a)\tVeri setinin baştan ve sondan ilk 10 satırını görüntüleyiniz. (5 puan)\n",
    "            b)\t Karşılaştırma yaptığınız gruplar içerisinde, önemli gördüğünüz hususlar (örneğin, grupların ortalama değerleri gibi) hakkında yorum yapınız. (10 puan)"
   ]
  },
  {
   "cell_type": "markdown",
   "id": "46c77a40-d0b8-497c-bcee-3db8ed84b7de",
   "metadata": {},
   "source": [
    "SORU 3a"
   ]
  },
  {
   "cell_type": "code",
   "execution_count": 7,
   "id": "57035505-613c-4355-bdc1-e46777437f48",
   "metadata": {},
   "outputs": [
    {
     "data": {
      "text/html": [
       "<div>\n",
       "<style scoped>\n",
       "    .dataframe tbody tr th:only-of-type {\n",
       "        vertical-align: middle;\n",
       "    }\n",
       "\n",
       "    .dataframe tbody tr th {\n",
       "        vertical-align: top;\n",
       "    }\n",
       "\n",
       "    .dataframe thead th {\n",
       "        text-align: right;\n",
       "    }\n",
       "</style>\n",
       "<table border=\"1\" class=\"dataframe\">\n",
       "  <thead>\n",
       "    <tr style=\"text-align: right;\">\n",
       "      <th></th>\n",
       "      <th>Grup</th>\n",
       "      <th>Yas</th>\n",
       "      <th>Cinsiyet</th>\n",
       "      <th>Ortalama_Kalp_Atis_Hizi</th>\n",
       "      <th>Gunluk_Uyku_Suresi</th>\n",
       "      <th>Haftalik_Ortalama_Adim_Sayisi</th>\n",
       "    </tr>\n",
       "  </thead>\n",
       "  <tbody>\n",
       "    <tr>\n",
       "      <th>0</th>\n",
       "      <td>A</td>\n",
       "      <td>62</td>\n",
       "      <td>Kadın</td>\n",
       "      <td>73</td>\n",
       "      <td>8</td>\n",
       "      <td>920</td>\n",
       "    </tr>\n",
       "    <tr>\n",
       "      <th>1</th>\n",
       "      <td>A</td>\n",
       "      <td>18</td>\n",
       "      <td>Erkek</td>\n",
       "      <td>65</td>\n",
       "      <td>6</td>\n",
       "      <td>920</td>\n",
       "    </tr>\n",
       "    <tr>\n",
       "      <th>2</th>\n",
       "      <td>A</td>\n",
       "      <td>21</td>\n",
       "      <td>Erkek</td>\n",
       "      <td>60</td>\n",
       "      <td>7</td>\n",
       "      <td>902</td>\n",
       "    </tr>\n",
       "    <tr>\n",
       "      <th>3</th>\n",
       "      <td>A</td>\n",
       "      <td>21</td>\n",
       "      <td>Erkek</td>\n",
       "      <td>68</td>\n",
       "      <td>8</td>\n",
       "      <td>943</td>\n",
       "    </tr>\n",
       "    <tr>\n",
       "      <th>4</th>\n",
       "      <td>A</td>\n",
       "      <td>57</td>\n",
       "      <td>Kadın</td>\n",
       "      <td>75</td>\n",
       "      <td>6</td>\n",
       "      <td>840</td>\n",
       "    </tr>\n",
       "    <tr>\n",
       "      <th>5</th>\n",
       "      <td>A</td>\n",
       "      <td>27</td>\n",
       "      <td>Erkek</td>\n",
       "      <td>75</td>\n",
       "      <td>8</td>\n",
       "      <td>963</td>\n",
       "    </tr>\n",
       "    <tr>\n",
       "      <th>6</th>\n",
       "      <td>A</td>\n",
       "      <td>37</td>\n",
       "      <td>Kadın</td>\n",
       "      <td>71</td>\n",
       "      <td>6</td>\n",
       "      <td>798</td>\n",
       "    </tr>\n",
       "    <tr>\n",
       "      <th>7</th>\n",
       "      <td>A</td>\n",
       "      <td>39</td>\n",
       "      <td>Erkek</td>\n",
       "      <td>64</td>\n",
       "      <td>6</td>\n",
       "      <td>899</td>\n",
       "    </tr>\n",
       "    <tr>\n",
       "      <th>8</th>\n",
       "      <td>A</td>\n",
       "      <td>54</td>\n",
       "      <td>Kadın</td>\n",
       "      <td>99</td>\n",
       "      <td>7</td>\n",
       "      <td>830</td>\n",
       "    </tr>\n",
       "    <tr>\n",
       "      <th>9</th>\n",
       "      <td>A</td>\n",
       "      <td>41</td>\n",
       "      <td>Kadın</td>\n",
       "      <td>88</td>\n",
       "      <td>6</td>\n",
       "      <td>987</td>\n",
       "    </tr>\n",
       "  </tbody>\n",
       "</table>\n",
       "</div>"
      ],
      "text/plain": [
       "  Grup  Yas Cinsiyet  Ortalama_Kalp_Atis_Hizi  Gunluk_Uyku_Suresi  \\\n",
       "0    A   62    Kadın                       73                   8   \n",
       "1    A   18    Erkek                       65                   6   \n",
       "2    A   21    Erkek                       60                   7   \n",
       "3    A   21    Erkek                       68                   8   \n",
       "4    A   57    Kadın                       75                   6   \n",
       "5    A   27    Erkek                       75                   8   \n",
       "6    A   37    Kadın                       71                   6   \n",
       "7    A   39    Erkek                       64                   6   \n",
       "8    A   54    Kadın                       99                   7   \n",
       "9    A   41    Kadın                       88                   6   \n",
       "\n",
       "   Haftalik_Ortalama_Adim_Sayisi  \n",
       "0                            920  \n",
       "1                            920  \n",
       "2                            902  \n",
       "3                            943  \n",
       "4                            840  \n",
       "5                            963  \n",
       "6                            798  \n",
       "7                            899  \n",
       "8                            830  \n",
       "9                            987  "
      ]
     },
     "execution_count": 7,
     "metadata": {},
     "output_type": "execute_result"
    }
   ],
   "source": [
    "df.head(10)"
   ]
  },
  {
   "cell_type": "code",
   "execution_count": 8,
   "id": "1c584598-055a-4a90-b2f6-2a008a8930e2",
   "metadata": {},
   "outputs": [
    {
     "data": {
      "text/html": [
       "<div>\n",
       "<style scoped>\n",
       "    .dataframe tbody tr th:only-of-type {\n",
       "        vertical-align: middle;\n",
       "    }\n",
       "\n",
       "    .dataframe tbody tr th {\n",
       "        vertical-align: top;\n",
       "    }\n",
       "\n",
       "    .dataframe thead th {\n",
       "        text-align: right;\n",
       "    }\n",
       "</style>\n",
       "<table border=\"1\" class=\"dataframe\">\n",
       "  <thead>\n",
       "    <tr style=\"text-align: right;\">\n",
       "      <th></th>\n",
       "      <th>Grup</th>\n",
       "      <th>Yas</th>\n",
       "      <th>Cinsiyet</th>\n",
       "      <th>Ortalama_Kalp_Atis_Hizi</th>\n",
       "      <th>Gunluk_Uyku_Suresi</th>\n",
       "      <th>Haftalik_Ortalama_Adim_Sayisi</th>\n",
       "    </tr>\n",
       "  </thead>\n",
       "  <tbody>\n",
       "    <tr>\n",
       "      <th>190</th>\n",
       "      <td>B</td>\n",
       "      <td>42</td>\n",
       "      <td>Erkek</td>\n",
       "      <td>97</td>\n",
       "      <td>6</td>\n",
       "      <td>1040</td>\n",
       "    </tr>\n",
       "    <tr>\n",
       "      <th>191</th>\n",
       "      <td>B</td>\n",
       "      <td>33</td>\n",
       "      <td>Erkek</td>\n",
       "      <td>87</td>\n",
       "      <td>7</td>\n",
       "      <td>981</td>\n",
       "    </tr>\n",
       "    <tr>\n",
       "      <th>192</th>\n",
       "      <td>B</td>\n",
       "      <td>59</td>\n",
       "      <td>Erkek</td>\n",
       "      <td>96</td>\n",
       "      <td>7</td>\n",
       "      <td>1067</td>\n",
       "    </tr>\n",
       "    <tr>\n",
       "      <th>193</th>\n",
       "      <td>B</td>\n",
       "      <td>36</td>\n",
       "      <td>Erkek</td>\n",
       "      <td>91</td>\n",
       "      <td>8</td>\n",
       "      <td>913</td>\n",
       "    </tr>\n",
       "    <tr>\n",
       "      <th>194</th>\n",
       "      <td>B</td>\n",
       "      <td>58</td>\n",
       "      <td>Kadın</td>\n",
       "      <td>89</td>\n",
       "      <td>7</td>\n",
       "      <td>995</td>\n",
       "    </tr>\n",
       "    <tr>\n",
       "      <th>195</th>\n",
       "      <td>B</td>\n",
       "      <td>33</td>\n",
       "      <td>Erkek</td>\n",
       "      <td>89</td>\n",
       "      <td>6</td>\n",
       "      <td>993</td>\n",
       "    </tr>\n",
       "    <tr>\n",
       "      <th>196</th>\n",
       "      <td>B</td>\n",
       "      <td>29</td>\n",
       "      <td>Kadın</td>\n",
       "      <td>93</td>\n",
       "      <td>8</td>\n",
       "      <td>1030</td>\n",
       "    </tr>\n",
       "    <tr>\n",
       "      <th>197</th>\n",
       "      <td>B</td>\n",
       "      <td>56</td>\n",
       "      <td>Kadın</td>\n",
       "      <td>72</td>\n",
       "      <td>7</td>\n",
       "      <td>982</td>\n",
       "    </tr>\n",
       "    <tr>\n",
       "      <th>198</th>\n",
       "      <td>B</td>\n",
       "      <td>47</td>\n",
       "      <td>Erkek</td>\n",
       "      <td>92</td>\n",
       "      <td>6</td>\n",
       "      <td>1058</td>\n",
       "    </tr>\n",
       "    <tr>\n",
       "      <th>199</th>\n",
       "      <td>B</td>\n",
       "      <td>19</td>\n",
       "      <td>Kadın</td>\n",
       "      <td>76</td>\n",
       "      <td>7</td>\n",
       "      <td>1016</td>\n",
       "    </tr>\n",
       "  </tbody>\n",
       "</table>\n",
       "</div>"
      ],
      "text/plain": [
       "    Grup  Yas Cinsiyet  Ortalama_Kalp_Atis_Hizi  Gunluk_Uyku_Suresi  \\\n",
       "190    B   42    Erkek                       97                   6   \n",
       "191    B   33    Erkek                       87                   7   \n",
       "192    B   59    Erkek                       96                   7   \n",
       "193    B   36    Erkek                       91                   8   \n",
       "194    B   58    Kadın                       89                   7   \n",
       "195    B   33    Erkek                       89                   6   \n",
       "196    B   29    Kadın                       93                   8   \n",
       "197    B   56    Kadın                       72                   7   \n",
       "198    B   47    Erkek                       92                   6   \n",
       "199    B   19    Kadın                       76                   7   \n",
       "\n",
       "     Haftalik_Ortalama_Adim_Sayisi  \n",
       "190                           1040  \n",
       "191                            981  \n",
       "192                           1067  \n",
       "193                            913  \n",
       "194                            995  \n",
       "195                            993  \n",
       "196                           1030  \n",
       "197                            982  \n",
       "198                           1058  \n",
       "199                           1016  "
      ]
     },
     "execution_count": 8,
     "metadata": {},
     "output_type": "execute_result"
    }
   ],
   "source": [
    "df.tail(10)"
   ]
  },
  {
   "cell_type": "markdown",
   "id": "4c17968b-d90d-4ae9-8d7a-2ea527264d7d",
   "metadata": {},
   "source": [
    "SORU - 3b"
   ]
  },
  {
   "cell_type": "markdown",
   "id": "010ce940-0f36-4533-8e18-68bfd686ae4a",
   "metadata": {},
   "source": [
    "İş problemini incelediğimizde, adım sayısı ile uygulama kullanımı arasındaki ilişkiyi kontrol etmemiz gerektiği sonucuna varıyoruz. Bu işlem için aşağıdaki kodu kullanabiliriz:"
   ]
  },
  {
   "cell_type": "code",
   "execution_count": 9,
   "id": "9e6ed5c7-dd3d-4862-b9f0-a3f09e3ad10e",
   "metadata": {},
   "outputs": [
    {
     "data": {
      "text/html": [
       "<div>\n",
       "<style scoped>\n",
       "    .dataframe tbody tr th:only-of-type {\n",
       "        vertical-align: middle;\n",
       "    }\n",
       "\n",
       "    .dataframe tbody tr th {\n",
       "        vertical-align: top;\n",
       "    }\n",
       "\n",
       "    .dataframe thead th {\n",
       "        text-align: right;\n",
       "    }\n",
       "</style>\n",
       "<table border=\"1\" class=\"dataframe\">\n",
       "  <thead>\n",
       "    <tr style=\"text-align: right;\">\n",
       "      <th></th>\n",
       "      <th>Haftalik_Ortalama_Adim_Sayisi</th>\n",
       "    </tr>\n",
       "    <tr>\n",
       "      <th>Grup</th>\n",
       "      <th></th>\n",
       "    </tr>\n",
       "  </thead>\n",
       "  <tbody>\n",
       "    <tr>\n",
       "      <th>A</th>\n",
       "      <td>900.41</td>\n",
       "    </tr>\n",
       "    <tr>\n",
       "      <th>B</th>\n",
       "      <td>1005.56</td>\n",
       "    </tr>\n",
       "  </tbody>\n",
       "</table>\n",
       "</div>"
      ],
      "text/plain": [
       "      Haftalik_Ortalama_Adim_Sayisi\n",
       "Grup                               \n",
       "A                            900.41\n",
       "B                           1005.56"
      ]
     },
     "execution_count": 9,
     "metadata": {},
     "output_type": "execute_result"
    }
   ],
   "source": [
    "df.groupby('Grup').agg({'Haftalik_Ortalama_Adim_Sayisi': 'mean'}) "
   ]
  },
  {
   "cell_type": "markdown",
   "id": "fd240f22-f652-4b89-be71-99e4208c5fe4",
   "metadata": {},
   "source": [
    "Bu kod, 'Grup' sütununa göre verileri gruplar ve her bir grubun 'haftalık ortalama adım sayısının' ortalamasını hesaplar.\n",
    "\n",
    "Şimdi bulduğumuz sonuca göre, uygulamayı 5 saatten az kullananların daha fazla adım attığı sonucuna ulaşabiliriz. Ancak bu sonucun istatistiksel olarak anlamlı olup olmadığını değerlendirmek için ileri istatistiksel analizler yapmamız gerekebilir."
   ]
  },
  {
   "cell_type": "markdown",
   "id": "305cc117-5b2b-411e-aa90-86937b62fdf6",
   "metadata": {},
   "source": [
    "SORU 4 - %1 anlamlılık düzeyi için aşağıdaki hususları içerek şekilde istatistiksel testlerinizi yapınız ve sonuçları yorumlayınız. Kullanacağınız tüm testlerin temel-alternatif hipotezini ve değerlendirme kriterini açıkça belirtiniz. Her bir test için elde edeceğiniz test istatistiği ve p-value’nin yorum olarak ilgili kodun hemen altına yazılması ve yorumlanması beklenmektedir. (45 puan)\n",
    "    a)\tDoğru istatistiksel testin hangisi olduğuna karar verebilmek için sınamanız gereken varsayımlar nelerdir gösteriniz. Gerekli değilse varsayımı sınamayınız. (20 puan)\n",
    "    b)\tNihai test ve sonuçlarını gösteriniz. (15 puan)\n",
    "    c)\tNihai test sonuçlarını dikkate alarak iş problemini yorumlayınız. (10 puan)"
   ]
  },
  {
   "cell_type": "markdown",
   "id": "2e200efc-1ba9-4fd0-8591-036953eb3f9c",
   "metadata": {},
   "source": [
    "SORU 4a"
   ]
  },
  {
   "cell_type": "markdown",
   "id": "70f252c5-363a-4fc0-8277-14348c133e9b",
   "metadata": {
    "jp-MarkdownHeadingCollapsed": true
   },
   "source": [
    "############################\n",
    "#Normallik Varsayımı (shapiro)\n",
    "############################\n",
    "\n",
    "\n",
    "H0: Normal dağılım varsayımı sağlanmaktadır.\n",
    "\r",
    "H1: Normal dağılım varsayımı sağlanmamaktadır.\n",
    "\n",
    "\n",
    "Kriterler:\n",
    "\n",
    "Eğer p-değeri 0.01'den küçükse, null hipotezi (H0) reddedilir.\n",
    "\n",
    "Eğer p-değeri 0.01'den büyük veya eşitse, null hipotezi (H0) reddedilemez."
   ]
  },
  {
   "cell_type": "code",
   "execution_count": 12,
   "id": "70c0443e-134f-4520-b71b-712c4b6bc4ca",
   "metadata": {},
   "outputs": [
    {
     "name": "stdout",
     "output_type": "stream",
     "text": [
      "Test Stat = 0.9732, p-value = 0.0390\n"
     ]
    }
   ],
   "source": [
    "test_stat, pvalue = shapiro(df.loc[df['Grup']== 'A', 'Haftalik_Ortalama_Adim_Sayisi'])\n",
    "print(\"Test Stat = %.4f, p-value = %.4f\" % (test_stat, pvalue))"
   ]
  },
  {
   "cell_type": "code",
   "execution_count": 13,
   "id": "929593c5-3c8b-4ae1-941a-c8db171f38c8",
   "metadata": {},
   "outputs": [
    {
     "name": "stdout",
     "output_type": "stream",
     "text": [
      "Test Stat = 0.9727, p-value = 0.0360\n"
     ]
    }
   ],
   "source": [
    "test_stat, pvalue = shapiro(df.loc[df['Grup']== 'B', 'Haftalik_Ortalama_Adim_Sayisi'])\n",
    "print(\"Test Stat = %.4f, p-value = %.4f\" % (test_stat, pvalue))"
   ]
  },
  {
   "cell_type": "markdown",
   "id": "733a0b79-4683-4882-99af-624208222d26",
   "metadata": {},
   "source": [
    " p-değerleri anlamlilik duzeyinden (0.01) büyük olduğu için, null hipotezi reddedilemez. Veriler normal dağılmaktadır. Diğer varsayımız olan Varyans Homojenliği varsayımına geçilir."
   ]
  },
  {
   "cell_type": "markdown",
   "id": "820504f4-85b2-4930-8e3e-f83763f36637",
   "metadata": {},
   "source": [
    "############################\n",
    "Varyans Homojenliği Varsayımı (levene)\n",
    "############################\n",
    "\n",
    "H0: Grupların varyansları homojendir.\n",
    "\n",
    "H1: Grupların varyansları homojen değildir.\n",
    "\n",
    "Kriterler:\n",
    "\n",
    "Eğer p-değeri 0.01'den küçükse, null hipotezi (H0) reddedilir.\n",
    "\n",
    "Eğer p-değeri 0.01'den büyük veya eşitse, null hipotezi (H0) reddedilemez."
   ]
  },
  {
   "cell_type": "code",
   "execution_count": 19,
   "id": "0192948e-61e5-46e3-a469-a85eb27158bc",
   "metadata": {},
   "outputs": [
    {
     "name": "stdout",
     "output_type": "stream",
     "text": [
      "Test Stat = 0.3568, p-value = 0.5510\n"
     ]
    }
   ],
   "source": [
    "test_stat, pvalue = levene(df.loc[df['Grup']== 'A', 'Haftalik_Ortalama_Adim_Sayisi'],\n",
    "       df.loc[df['Grup']== 'B', 'Haftalik_Ortalama_Adim_Sayisi'])\n",
    "print(\"Test Stat = %.4f, p-value = %.4f\" % (test_stat, pvalue))"
   ]
  },
  {
   "cell_type": "markdown",
   "id": "ff505b10-f45e-46fd-ae5a-69f499e3b4df",
   "metadata": {},
   "source": [
    "Varyans homojenliği varsayımı da sağlanmıştır. Parametrik testi kullanmamız gerektiği sonucuna ulaşırız."
   ]
  },
  {
   "cell_type": "markdown",
   "id": "a9ac99ed-8bf5-42cb-951d-d89e268fe741",
   "metadata": {},
   "source": [
    "SORU 4b"
   ]
  },
  {
   "cell_type": "markdown",
   "id": "a7528333-74e9-4304-ab74-b7abfa1f193b",
   "metadata": {},
   "source": [
    "Grup sayısı 2 olduğu için parametrik testlerden t testinin kullanılması gerekmektedir.\n",
    "\n",
    "\n",
    "H0: A ve B gruplarının haftalık ortalama adım sayılarının miktarları arasında istatistiksel olarak anlamlı bir fark yoktur.\n",
    "\n",
    "\n",
    "H1: A ve B gruplarının haftalık ortalama adım sayılarının miktarları arasında istatistiksel olarak anlamlı bir fark vardır.\n",
    "\n",
    "ya da\n",
    "\n",
    "\n",
    "H0: M0 — M1 = 0\n",
    "\n",
    "\r",
    "Ha: M0 — M1 ≠ 0\n",
    "\n",
    "Kriterler:\n",
    "\n",
    "Eğer p-değeri 0.01'den küçükse, null hipotezi (H0) reddedilir.\n",
    "\n",
    "Eğer p-değeri 0.01'den büyük veya eşitse, null hipotezi (H0) reddedilemez."
   ]
  },
  {
   "cell_type": "code",
   "execution_count": 20,
   "id": "26b34df5-4c1a-4ea2-a28c-d37d44490473",
   "metadata": {},
   "outputs": [
    {
     "name": "stdout",
     "output_type": "stream",
     "text": [
      "Test Stat = -14.7861, p-value = 0.0000\n"
     ]
    }
   ],
   "source": [
    "test_stat, pvalue = ttest_ind(df.loc[df['Grup']== 'A', 'Haftalik_Ortalama_Adim_Sayisi'],\n",
    "          df.loc[df['Grup']== 'B', 'Haftalik_Ortalama_Adim_Sayisi'],\n",
    "          equal_var=True)\n",
    "print(\"Test Stat = %.4f, p-value = %.4f\" % (test_stat, pvalue))"
   ]
  },
  {
   "cell_type": "markdown",
   "id": "c0ad6f67-6550-4f62-a196-47cbde14c7d4",
   "metadata": {},
   "source": [
    "A ve B gruplarının haftalık ortalama adım sayılarının miktarları arasında istatistiksel olarak anlamlı bir fark vardır."
   ]
  },
  {
   "cell_type": "markdown",
   "id": "bce91dc3-b377-4add-98c3-7c51d9cdb583",
   "metadata": {},
   "source": [
    "SORU 4c"
   ]
  },
  {
   "cell_type": "markdown",
   "id": "021d6371-3e3d-4b68-b616-1594de060c05",
   "metadata": {},
   "source": [
    "Düzenli uygulama kullanımının adım sayısını artırdığı savı istatistiksel olarak anlamlıdır."
   ]
  },
  {
   "cell_type": "markdown",
   "id": "adc41dcf-b614-414b-a237-8255eab055cd",
   "metadata": {},
   "source": [
    "SORU 5 - %5 anlamlılık düzeyi için 4. soruda elde ettiğiniz sonuçları tekrar yorumlayınız. Yalnızca gerekli olduğunu düşündüğünüz testleri tekrarlamanız beklenmektedir. Diğer türlü 4. soruda elde ettiğiniz test sonuçlarını kopyalayıp altına yorumlarınızı yazabilirsiniz. (30 puan)"
   ]
  },
  {
   "cell_type": "markdown",
   "id": "8404c170-cf10-47a5-9bdc-d2fd87c0ea4a",
   "metadata": {},
   "source": [
    "############################\n",
    "#Normallik Varsayımı (shapiro)\n",
    "############################\n",
    "\n",
    "H0: Normal dağılım varsayımı sağlanmaktadır.\n",
    "\n",
    "\n",
    "H1: Normal dağılım varsayımı sağlanmamaktadır.\n",
    "\n",
    "\n",
    "Kriterler:\n",
    "\n",
    "Eğer p-değeri 0.05'den küçükse, null hipotezi (H0) reddedilir.\n",
    "\r",
    "Eğer p-değeri 0.05'den büyük veya eşitse, null hipotezi (H0) reddedilemez."
   ]
  },
  {
   "cell_type": "code",
   "execution_count": 21,
   "id": "62a638bf-594e-47bc-80fc-072fd79c030c",
   "metadata": {},
   "outputs": [
    {
     "name": "stdout",
     "output_type": "stream",
     "text": [
      "Test Stat = 0.9732, p-value = 0.0390\n"
     ]
    }
   ],
   "source": [
    "test_stat, pvalue = shapiro(df.loc[df['Grup']== 'A', 'Haftalik_Ortalama_Adim_Sayisi'])\n",
    "print(\"Test Stat = %.4f, p-value = %.4f\" % (test_stat, pvalue))"
   ]
  },
  {
   "cell_type": "code",
   "execution_count": 22,
   "id": "d6102ccb-b89a-459f-9718-2dcf1d6f60ae",
   "metadata": {},
   "outputs": [
    {
     "name": "stdout",
     "output_type": "stream",
     "text": [
      "Test Stat = 0.9727, p-value = 0.0360\n"
     ]
    }
   ],
   "source": [
    "test_stat, pvalue = shapiro(df.loc[df['Grup']== 'B', 'Haftalik_Ortalama_Adim_Sayisi'])\n",
    "print(\"Test Stat = %.4f, p-value = %.4f\" % (test_stat, pvalue))"
   ]
  },
  {
   "cell_type": "markdown",
   "id": "99dda4a1-9aca-4a0d-8426-8e1aa72cae66",
   "metadata": {},
   "source": [
    "p-değerleri < 0.05 oldugu için HO reddedilir. Normal dağılım varsayımı sağlanamamaktadır. Parametrik olmayan testlerden iki grup ortalaması için kullanılan mannwhitneyu testi nihai test olarak kullanılacaktır.\n",
    "\n",
    "############################\n",
    "#Nihai Test (mannwhitneyu)\n",
    "############################\n",
    "\n",
    "H0: A ve B gruplarının haftalık ortalama adım sayılarının miktarları arasında istatistiksel olarak anlamlı bir fark yoktur.\n",
    "\n",
    "H1: A ve B gruplarının haftalık ortalama adım sayılarının miktarları arasında istatistiksel olarak anlamlı bir fark vardır.\n",
    "\n",
    "ya da\n",
    "\n",
    "H0: M0 — M1 = 0\n",
    "\n",
    "H1: M0 — M1 ≠ 0\n",
    "\n",
    "\n",
    "Kriterler:\n",
    "\n",
    "Eğer p-değeri 0.05'den küçükse, null hipotezi (H0) reddedilir.\n",
    "\n",
    "Eğer p-değeri 0.05'den büyük veya eşitse, null hipotezi (H0) reddedilemez."
   ]
  },
  {
   "cell_type": "code",
   "execution_count": 24,
   "id": "96b0499e-8013-47d3-9629-fbf4c6979902",
   "metadata": {},
   "outputs": [
    {
     "name": "stdout",
     "output_type": "stream",
     "text": [
      "Test Stat = 619.5000, p-value = 0.0000\n"
     ]
    }
   ],
   "source": [
    "test_stat, pvalue =  mannwhitneyu(df.loc[df['Grup']== 'A', 'Haftalik_Ortalama_Adim_Sayisi'],\n",
    "                                  df.loc[df['Grup']== 'B', 'Haftalik_Ortalama_Adim_Sayisi'])\n",
    "print(\"Test Stat = %.4f, p-value = %.4f\" % (test_stat, pvalue))"
   ]
  },
  {
   "cell_type": "markdown",
   "id": "eca6d162-5b1e-42bf-ab94-49c896ef6478",
   "metadata": {},
   "source": [
    "A ve B gruplarının haftalık ortalama adım sayılarının miktarları arasında istatistiksel olarak anlamlı bir fark yoktur olarak kurduğumuz H0 hipotezi reddedilir. Düzenli uygulama kullanımının adım sayısını artırdığı istatistiksel olarak anlamlıdır."
   ]
  },
  {
   "cell_type": "markdown",
   "id": "e561e1ac-ff48-4cc7-81d3-7a5e748df9c7",
   "metadata": {},
   "source": [
    "SORU - 6 Seçtiğiniz iş probleminin nedenini kısaca açıklayınız. Kararınızı etkileyen faktörler nelerdir? (10 puan)"
   ]
  }
 ],
 "metadata": {
  "kernelspec": {
   "display_name": "Python 3 (ipykernel)",
   "language": "python",
   "name": "python3"
  },
  "language_info": {
   "codemirror_mode": {
    "name": "ipython",
    "version": 3
   },
   "file_extension": ".py",
   "mimetype": "text/x-python",
   "name": "python",
   "nbconvert_exporter": "python",
   "pygments_lexer": "ipython3",
   "version": "3.12.0"
  }
 },
 "nbformat": 4,
 "nbformat_minor": 5
}
