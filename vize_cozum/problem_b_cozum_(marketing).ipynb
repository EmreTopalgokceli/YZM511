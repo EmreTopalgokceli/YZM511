{
 "cells": [
  {
   "cell_type": "markdown",
   "id": "db4cc40a-8582-4ce7-ad90-dc65f1bf4c45",
   "metadata": {},
   "source": [
    "İŞ PROBLEMİ B \n",
    "\n",
    "Bir e-ticaret şirketi, müşterilerine yönelik iki farklı e-posta pazarlama kampanyasını test etmek istemektedir. Bunları \"Kampanya A\" ve \"Kampanya B\" olarak adlandırabiliriz. Kampanya A, ürünlerin tanıtıldığı geleneksel bir e-posta içeriği sunarken, Kampanya B interaktif ve kişiselleştirilmiş içerikler içermektedir. Bu deney kapsamında müşteriler rastgele olarak kampanyalardan birine atanmış ve her birine e-posta gönderilmiştir. Bu işlemler sonucunda üretilen veriler şirketin bilgi işlem birimi tarafından email_marketing.csv isimli bir dosya ile size sunulmaktadır. \n",
    "\n",
    "Şirket, hangi kampanyanın satın alma miktarlarını artırdığını belirlemek istiyor. Bu kapsamda tarafınızdan yapılması beklenenler aşağıda belirtilmektedir."
   ]
  },
  {
   "cell_type": "code",
   "execution_count": null,
   "id": "2b0aa404-407f-43da-b739-131aa0ab8ad2",
   "metadata": {},
   "outputs": [],
   "source": [
    "SORU 1 - Yalnızca gerekli kütüphaneleri ve testleri çalışma ortamına yükleyiniz. (5 puan) - Kullanılmadığı halde yüklenmiş kütüphane ve testlerin her biri için 1 puanınız düşürülecektir"
   ]
  },
  {
   "cell_type": "code",
   "execution_count": 3,
   "id": "38892b73-b866-44cb-9186-e1e03ff923da",
   "metadata": {},
   "outputs": [],
   "source": [
    "import pandas as pd\n",
    "from scipy.stats import shapiro, levene, ttest_ind,  mannwhitneyu"
   ]
  },
  {
   "cell_type": "markdown",
   "id": "6bf083be-c8a8-4c09-ab64-d0a0fe3045b1",
   "metadata": {},
   "source": [
    "SORU 2 - Veri setini çalışma ortamına yükleyiniz. (5 puan)"
   ]
  },
  {
   "cell_type": "code",
   "execution_count": 2,
   "id": "78614a07-aef7-4030-9ede-1ee72d15c310",
   "metadata": {},
   "outputs": [],
   "source": [
    "df = pd.read_csv('email_marketing.csv')"
   ]
  },
  {
   "cell_type": "markdown",
   "id": "c72b1be3-b6c6-43a8-a068-025dcd81bbae",
   "metadata": {},
   "source": [
    "SORU 3a - Veri setinin baştan ve sondan ilk 10 satırını görüntüleyiniz. (5 puan)"
   ]
  },
  {
   "cell_type": "code",
   "execution_count": null,
   "id": "34760917-3b80-42f0-8ecf-7e0792a462a3",
   "metadata": {},
   "outputs": [],
   "source": [
    "df.head(10)\n",
    "df.tail(10)"
   ]
  },
  {
   "cell_type": "code",
   "execution_count": null,
   "id": "62939061-ff4d-4651-9b98-1572cb925eb3",
   "metadata": {},
   "outputs": [],
   "source": [
    "SORU 3b - Karşılaştırma yaptığınız gruplar içerisinde, önemli gördüğünüz hususlar (örneğin, grupların ortalama değerleri gibi) hakkında yorum yapınız. (10 puan)"
   ]
  },
  {
   "cell_type": "code",
   "execution_count": 5,
   "id": "95e2a266-fe87-48f6-92cf-9ad285228352",
   "metadata": {},
   "outputs": [
    {
     "data": {
      "text/html": [
       "<div>\n",
       "<style scoped>\n",
       "    .dataframe tbody tr th:only-of-type {\n",
       "        vertical-align: middle;\n",
       "    }\n",
       "\n",
       "    .dataframe tbody tr th {\n",
       "        vertical-align: top;\n",
       "    }\n",
       "\n",
       "    .dataframe thead th {\n",
       "        text-align: right;\n",
       "    }\n",
       "</style>\n",
       "<table border=\"1\" class=\"dataframe\">\n",
       "  <thead>\n",
       "    <tr style=\"text-align: right;\">\n",
       "      <th></th>\n",
       "      <th>Satin_Alma_Miktari</th>\n",
       "    </tr>\n",
       "    <tr>\n",
       "      <th>Kampanya</th>\n",
       "      <th></th>\n",
       "    </tr>\n",
       "  </thead>\n",
       "  <tbody>\n",
       "    <tr>\n",
       "      <th>Kampanya A</th>\n",
       "      <td>15.02</td>\n",
       "    </tr>\n",
       "    <tr>\n",
       "      <th>Kampanya B</th>\n",
       "      <td>16.01</td>\n",
       "    </tr>\n",
       "  </tbody>\n",
       "</table>\n",
       "</div>"
      ],
      "text/plain": [
       "            Satin_Alma_Miktari\n",
       "Kampanya                      \n",
       "Kampanya A               15.02\n",
       "Kampanya B               16.01"
      ]
     },
     "execution_count": 5,
     "metadata": {},
     "output_type": "execute_result"
    }
   ],
   "source": [
    "df.groupby('Kampanya').agg({'Satin_Alma_Miktari': 'mean'})"
   ]
  },
  {
   "cell_type": "markdown",
   "id": "1bb3141f-9650-4a2c-a501-4b7c70f990bb",
   "metadata": {},
   "source": [
    "Matematiksel olarak interaktif ve kişiselleştirilmiş içerikler içeren (KAmpanya B) kampanyanin daha basarili oldugunu goruyoruz. Ancak bu sonucun istatistiksel olarak anlamlı olup olmadığını değerlendirmek için ileri istatistiksel analizler yapmamız gerekebilir."
   ]
  },
  {
   "cell_type": "markdown",
   "id": "74537139-19c8-475e-818a-1f5a0ecddb72",
   "metadata": {},
   "source": [
    "SORU 4a - Doğru istatistiksel testin hangisi olduğuna karar verebilmek için sınamanız gereken varsayımlar nelerdir gösteriniz. Gerekli değilse varsayımı sınamayınız. (20 puan)"
   ]
  },
  {
   "cell_type": "markdown",
   "id": "636c3d2a-72e5-4854-9996-87c1e476e45b",
   "metadata": {},
   "source": [
    "############################ #Normallik Varsayımı (shapiro) ############################\n",
    "\n",
    "H0: Normal dağılım varsayımı sağlanmaktadır. \n",
    "\n",
    "H1: Normal dağılım varsayımı sağlanmamaktadır. \n",
    "\n",
    "\n",
    "Kriterler: \n",
    "\n",
    "Eğer p-değeri 0.01'den küçükse, null hipotezi (H0) reddedilir. \n",
    "\n",
    "Eğer p-değeri 0.01'den büyük veya eşitse, null hipotezi (H0) reddedilemez."
   ]
  },
  {
   "cell_type": "code",
   "execution_count": 8,
   "id": "ef1eeb9e-d02e-4fe3-a972-5ff79663983e",
   "metadata": {},
   "outputs": [
    {
     "name": "stdout",
     "output_type": "stream",
     "text": [
      "Test Stat = 0.9766, p-value = 0.0716\n"
     ]
    }
   ],
   "source": [
    "test_stat, pvalue = shapiro(df.loc[df['Kampanya'] == 'Kampanya A', 'Satin_Alma_Miktari'])\n",
    "print(\"Test Stat = %.4f, p-value = %.4f\" % (test_stat, pvalue))"
   ]
  },
  {
   "cell_type": "code",
   "execution_count": 9,
   "id": "e9db8ba3-6a3a-4faa-8036-552fa0b1addb",
   "metadata": {},
   "outputs": [
    {
     "name": "stdout",
     "output_type": "stream",
     "text": [
      "Test Stat = 0.9723, p-value = 0.0332\n"
     ]
    }
   ],
   "source": [
    "test_stat, pvalue = shapiro(df.loc[df['Kampanya'] == 'Kampanya B', 'Satin_Alma_Miktari'])\n",
    "print(\"Test Stat = %.4f, p-value = %.4f\" % (test_stat, pvalue))"
   ]
  },
  {
   "cell_type": "markdown",
   "id": "8324463d-17ed-4ac9-a48d-fdc8c806a5da",
   "metadata": {},
   "source": [
    "p-değerleri anlamlilik duzeyinden (0.01) büyük olduğu için, null hipotezi reddedilemez. Veriler normal dağılmaktadır. Diğer varsayımız olan Varyans Homojenliği varsayımına geçilir.\n",
    "\n",
    "############################ Varyans Homojenliği Varsayımı (levene) ############################\n",
    "\n",
    "H0: Grupların varyansları homojendir. \n",
    "\n",
    "H1: Grupların varyansları homojen değildir.\n",
    "\n",
    "\n",
    "Kriterler: \n",
    "\n",
    "Eğer p-değeri 0.01'den küçükse, null hipotezi (H0) reddedilir. \n",
    "\n",
    "Eğer p-değeri 0.01'den büyük veya eşitse, null hipotezi (H0) reddedilemez."
   ]
  },
  {
   "cell_type": "code",
   "execution_count": 10,
   "id": "f4370459-2b4e-4adf-8dd3-8ee600581cd8",
   "metadata": {},
   "outputs": [
    {
     "name": "stdout",
     "output_type": "stream",
     "text": [
      "Test Stat = 0.2637, p-value = 0.6081\n"
     ]
    }
   ],
   "source": [
    "test_stat, pvalue = levene(df.loc[df['Kampanya'] == 'Kampanya A', 'Satin_Alma_Miktari'],\n",
    "                           df.loc[df['Kampanya'] == 'Kampanya B', 'Satin_Alma_Miktari'])\n",
    "print(\"Test Stat = %.4f, p-value = %.4f\" % (test_stat, pvalue))"
   ]
  },
  {
   "cell_type": "markdown",
   "id": "420f087c-3edb-4716-9115-eca4f49f509d",
   "metadata": {},
   "source": [
    "Varyans homojenliği varsayımı da sağlanmıştır. Parametrik testi kullanmamız gerektiği sonucuna ulaşırız."
   ]
  },
  {
   "cell_type": "markdown",
   "id": "ff52ded7-fdbd-4c7a-8132-650e13ec2f7a",
   "metadata": {},
   "source": [
    "SORU 4b - Nihai test ve sonuçlarını gösteriniz. (15 puan)"
   ]
  },
  {
   "cell_type": "markdown",
   "id": "9ed00f37-1739-4165-aeb0-f3162445d7f8",
   "metadata": {},
   "source": [
    "Grup sayısı 2 olduğu için parametrik testlerden t testinin kullanılması gerekmektedir.\n",
    "\n",
    "H0: Kampanya A ve Kampanya B'nin satın alma miktarları arasında istatistiksel olarak anlamlı bir fark yoktur.\n",
    "\n",
    "H1: Kampanya A ve Kampanya B'nin satın alma miktarları arasında istatistiksel olarak anlamlı bir fark vardir.\n",
    "\n",
    "\n",
    "ya da\n",
    "\n",
    "\n",
    "H0: M0 — M1 = 0 \n",
    "\n",
    "H1: M0 — M1 ≠ 0\n",
    "\n",
    "\n",
    "Kriterler:\n",
    "\n",
    "Eğer p-değeri 0.01'den küçükse, null hipotezi (H0) reddedilir. \n",
    "\n",
    "Eğer p-değeri 0.01'den büyük veya eşitse, null hipotezi (H0) reddedilemez"
   ]
  },
  {
   "cell_type": "code",
   "execution_count": 11,
   "id": "6dfdd55d-6f39-4944-80b1-5c0796de4a5f",
   "metadata": {},
   "outputs": [
    {
     "name": "stdout",
     "output_type": "stream",
     "text": [
      "Test Stat = -0.9273, p-value = 0.3549\n"
     ]
    }
   ],
   "source": [
    "test_stat, pvalue =  ttest_ind(df.loc[df['Kampanya'] == 'Kampanya A', 'Satin_Alma_Miktari'],\n",
    "                               df.loc[df['Kampanya'] == 'Kampanya B', 'Satin_Alma_Miktari'],\n",
    "                               equal_var=True)\n",
    "print(\"Test Stat = %.4f, p-value = %.4f\" % (test_stat, pvalue))"
   ]
  },
  {
   "cell_type": "markdown",
   "id": "13f46da9-6394-4388-b242-0fff2597aa8d",
   "metadata": {},
   "source": [
    "H0 reddedilemez. Kampanya A ve Kampanya B'nin satın alma miktarları arasında istatistiksel olarak anlamlı bir fark yoktur."
   ]
  },
  {
   "cell_type": "markdown",
   "id": "67353340-1003-4a22-9eef-3d972b5162f1",
   "metadata": {},
   "source": [
    "SORU 4c\t- Nihai test sonuçlarını dikkate alarak iş problemini yorumlayınız. (10 puan)"
   ]
  },
  {
   "cell_type": "markdown",
   "id": "8f4d1352-4be9-4747-a80d-24be93ef6479",
   "metadata": {},
   "source": [
    "Kampanyalar farksizdir. Satin alma miktari uzerinde herhangi bir etkisi olmamaktadir."
   ]
  },
  {
   "cell_type": "markdown",
   "id": "5a553cf3-c2f9-4ee6-92ba-6f171f13d232",
   "metadata": {},
   "source": [
    "SORU 5 - %5 anlamlılık düzeyi için 4. soruda elde ettiğiniz sonuçları tekrar yorumlayınız. Yalnızca gerekli olduğunu düşündüğünüz testleri tekrarlamanız beklenmektedir. Diğer türlü 4. soruda elde ettiğiniz test sonuçlarını kopyalayıp altına yorumlarınızı yazabilirsiniz. (30 puan)"
   ]
  },
  {
   "cell_type": "markdown",
   "id": "26fa0414-a762-4db7-b0ce-22d6f06dff40",
   "metadata": {},
   "source": [
    "############################ #Normallik Varsayımı (shapiro) ############################\n",
    "\n",
    "H0: Normal dağılım varsayımı sağlanmaktadır. \n",
    "\n",
    "H1: Normal dağılım varsayımı sağlanmamaktadır. \n",
    "\n",
    "\n",
    "Kriterler: \n",
    "\n",
    "Eğer p-değeri 0.05'ten küçükse, null hipotezi (H0) reddedilir.\n",
    "\n",
    "Eğer p-değeri 0.05'ten büyük veya eşitse, null hipotezi (H0) reddedilemez.\n",
    "\n",
    "\n",
    "Kampanya B icin normallik testi p-value 0.0332'dir. Dolayisiyla yeni durumda (%5 anlamlilik duzeyi) normallik varsayiminin saglanamadigini goruyoruz. Parametrik olmayan testlerden iki grup ortalaması için kullanılan mannwhitneyu testi nihai test olarak kullanılacaktır.\r\n",
    "\r\n",
    "############################ #Nihai Test (mannwhitneyu) ############################H0: Kampanya A ve Kampanya B'nin satın alma miktarları arasında istatistiksel olarak anlamlı bir fark yoktur.\n",
    "\n",
    "H1: Kampanya A ve Kampanya B'nin satın alma miktarları arasında istatistiksel olarak anlamlı bir fark vardir.\n",
    "\n",
    "\n",
    "ya da\n",
    "\n",
    "\n",
    "H0: M0 — M1 = 0 \n",
    "\n",
    "H1: M0 — M1 ≠ 0\n",
    "\n",
    "\n",
    "Kriterler:\n",
    "\n",
    "Eğer p-değeri 0.05'ten küçükse, null hipotezi (H0) reddedilir. \n",
    "\n",
    "Eğer p-değeri 0.05'ten büyük veya eşitse, null hipotezi (H0) reddedilemezdedilemez."
   ]
  },
  {
   "cell_type": "code",
   "execution_count": 12,
   "id": "e4326844-f279-47aa-ba3a-c2b8f8ecdec8",
   "metadata": {},
   "outputs": [
    {
     "name": "stdout",
     "output_type": "stream",
     "text": [
      "Test Stat = 4649.0000, p-value = 0.3912\n"
     ]
    }
   ],
   "source": [
    "test_stat, pvalue =   mannwhitneyu(df.loc[df['Kampanya'] == 'Kampanya A', 'Satin_Alma_Miktari'],\n",
    "                                   df.loc[df['Kampanya'] == 'Kampanya B', 'Satin_Alma_Miktari'])\n",
    "print(\"Test Stat = %.4f, p-value = %.4f\" % (test_stat, pvalue))"
   ]
  },
  {
   "cell_type": "markdown",
   "id": "82db355f-edc5-49e2-a34f-4e4e851bb4fc",
   "metadata": {},
   "source": [
    "H0 reddedilemez. Kampanya A ve Kampanya B'nin satın alma miktarları arasında istatistiksel olarak anlamlı bir fark yoktur. Kampanyalar farksizdir. "
   ]
  },
  {
   "cell_type": "markdown",
   "id": "8cccf746-cc1f-483a-9d32-f72a6825b9b7",
   "metadata": {},
   "source": [
    "BONUS: Seçtiğiniz iş probleminin nedenini kısaca açıklayınız. Kararınızı etkileyen faktörler nelerdir? (10 puan)"
   ]
  }
 ],
 "metadata": {
  "kernelspec": {
   "display_name": "Python 3 (ipykernel)",
   "language": "python",
   "name": "python3"
  },
  "language_info": {
   "codemirror_mode": {
    "name": "ipython",
    "version": 3
   },
   "file_extension": ".py",
   "mimetype": "text/x-python",
   "name": "python",
   "nbconvert_exporter": "python",
   "pygments_lexer": "ipython3",
   "version": "3.12.0"
  }
 },
 "nbformat": 4,
 "nbformat_minor": 5
}
